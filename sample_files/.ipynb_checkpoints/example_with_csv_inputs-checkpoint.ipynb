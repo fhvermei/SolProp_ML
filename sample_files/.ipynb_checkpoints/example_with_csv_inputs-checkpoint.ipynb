{
 "cells": [
  {
   "cell_type": "code",
   "execution_count": null,
   "id": "47f464af",
   "metadata": {},
   "outputs": [],
   "source": [
    "import sys\n",
    "import os\n",
    "import json\n",
    "import pandas as pd\n",
    "\n",
    "# If you installed the code from source and the import fails with the following error:\n",
    "#    (ModuleNotFoundError: No module named 'solvation_predictor')\n",
    "# Make sure that you have activated the correct conda environment (`conda activate env_solprop`) or \n",
    "# using the correct kernel.\n",
    "# You can add the SolProp_ml path using following options:\n",
    "#    Option 1: Follow the installation instruction option 2 and make sure you run `pip install -e .` line.\n",
    "#    Option 2: Add the path to the `SolProp_ML` to the `PYTHONPATH` in your .bash_profile or .bashrc file\n",
    "#    Option 3: Uncomment the line below. Make sure to replace `Path-To-SolProp_ML` with the actual path\n",
    "#              to your SolProp_ML directory in the line below.\n",
    "\n",
    "# sys.path.append(\"/Path-To-SolProp_ML/SolProp_ML\") # Add SolProp_ML to the path\n",
    "import solvation_predictor.calculate_solubility as calc"
   ]
  },
  {
   "cell_type": "markdown",
   "id": "ae443b80",
   "metadata": {},
   "source": [
    "# Ex 1. Property prediction\n",
    "\n",
    "Predict solvation free energy, solvation enthalpy, aqueous solid solubility, and Abraham solute parameters (E, S, A, B, L, V) at 298 K given the csv file with solute and solvent SMILES or InChI as an input"
   ]
  },
  {
   "cell_type": "code",
   "execution_count": null,
   "id": "1b7002be",
   "metadata": {},
   "outputs": [],
   "source": [
    "df = pd.read_csv('example_property_pred/input.csv')\n",
    "log_file_path = 'example_property_pred/prop_prediction_log.log'\n",
    "\n",
    "if os.path.exists(log_file_path):\n",
    "    os.remove(log_file_path)\n",
    "    \n",
    "predictions = calc.predict_property(\n",
    "    csv_path=None, # provide either the path to the csv file or the pandas dataframe object\n",
    "    df=df, # provide either the path to the csv file or the pandas dataframe object\n",
    "    gsolv=True, # predict solvation free energy at 298 K\n",
    "    hsolv=True, # predict solvation enthalpy at 298 K\n",
    "    saq=True, # predict aqueous solid solubility at 298 K\n",
    "    solute_parameters=True, # predict Abraham solid parameters at 298 K\n",
    "    reduced_number=False, # use a reduced number of models for faster but less accurate prediction (does not work for solute_parameters)\n",
    "    validate_data_list=['solute', 'solvent'], # a list of data names to validate (also converts inchis to smiles)\n",
    "    export_csv='example_property_pred/results.csv', # path if csv file with predictions needs to be exported\n",
    "    logger=log_file_path # path to the logger file if the logger file needs to be exported\n",
    ")\n"
   ]
  },
  {
   "cell_type": "markdown",
   "id": "bdb6964e",
   "metadata": {},
   "source": [
    "# Ex 2. Solid solubility prediction with reference solvent, reference solubility, and temperature"
   ]
  },
  {
   "cell_type": "code",
   "execution_count": null,
   "id": "98ce2a90",
   "metadata": {},
   "outputs": [],
   "source": [
    "df = pd.read_csv('example_solubility_pred_all_options/input.csv')\n",
    "log_file_path = 'example_solubility_pred_all_options/solubility_prediction_log.log'\n",
    "\n",
    "if os.path.exists(log_file_path):\n",
    "    os.remove(log_file_path)\n",
    "    \n",
    "results = calc.calculate_solubility(\n",
    "    path=None, # provide either the path to the csv file or the pandas dataframe object\n",
    "    df=df, # provide either the path to the csv file or the pandas dataframe object\n",
    "    validate_data_list=['solute', 'solvent', 'reference_solvent', 'reference_solubility', 'temperature'], # a list of data names to validate (also converts inchis to smiles)\n",
    "    calculate_aqueous=True, # also calculate aqueous solubility even if reference solubility is provided\n",
    "    calculate_Hdiss_T_dep=True, # calculate solubility with the temperature dependent dissolution enthalpy (method 2)\n",
    "    reduced_number=False, # use a reduced number of models for faster but less accurate prediction (does not work for solute_parameters)\n",
    "    export_csv='example_solubility_pred_all_options/results.csv', # path if csv file with predictions needs to be exported\n",
    "    export_detailed_csv=True, # True if csv file with all predictions and calculations needs to be exported\n",
    "    logger=log_file_path # path to the logger file if the logger file needs to be exported\n",
    ")\n"
   ]
  },
  {
   "cell_type": "markdown",
   "id": "e14bb741",
   "metadata": {},
   "source": [
    "# Ex 3. Solid solubility prediction only at 298 K with reference solvent and reference solubility. No temperature-dependent solubility calculation."
   ]
  },
  {
   "cell_type": "code",
   "execution_count": null,
   "id": "41a319d0",
   "metadata": {},
   "outputs": [],
   "source": [
    "df = pd.read_csv('example_only_298K/input.csv')\n",
    "log_file_path = 'example_only_298K/solubility_prediction_log.log'\n",
    "\n",
    "if os.path.exists(log_file_path):\n",
    "    os.remove(log_file_path)\n",
    "    \n",
    "results = calc.calculate_solubility(\n",
    "    path=None, # provide either the path to the csv file or the pandas dataframe object\n",
    "    df=df, # provide either the path to the csv file or the pandas dataframe object\n",
    "    validate_data_list=['solute', 'solvent', 'reference_solvent', 'reference_solubility'], # a list of data names to validate (also converts inchis to smiles)\n",
    "    calculate_aqueous=True, # also calculate aqueous solubility even if reference solubility is provided\n",
    "    calculate_Hdiss_T_dep=False, # calculate solubility with the temperature dependent dissolution enthalpy (method 2)\n",
    "    reduced_number=False, # use a reduced number of models for faster but less accurate prediction (does not work for solute_parameters)\n",
    "    export_csv='example_only_298K/results.csv', # path if csv file with predictions needs to be exported\n",
    "    export_detailed_csv=True, # True if csv file with all predictions and calculations needs to be exported\n",
    "    logger=log_file_path # path to the logger file if the logger file needs to be exported\n",
    ")\n"
   ]
  },
  {
   "cell_type": "markdown",
   "id": "ffe926e9",
   "metadata": {},
   "source": [
    "# Ex 4. Solid solubility prediction only at various temperatures without reference solvent."
   ]
  },
  {
   "cell_type": "code",
   "execution_count": null,
   "id": "cb1e4211",
   "metadata": {},
   "outputs": [],
   "source": [
    "df = pd.read_csv('example_no_ref_solvent/input.csv')\n",
    "log_file_path = 'example_no_ref_solvent/solubility_prediction_log.log'\n",
    "\n",
    "if os.path.exists(log_file_path):\n",
    "    os.remove(log_file_path)\n",
    "    \n",
    "results = calc.calculate_solubility(\n",
    "    path=None, # provide either the path to the csv file or the pandas dataframe object\n",
    "    df=df, # provide either the path to the csv file or the pandas dataframe object\n",
    "    validate_data_list=['solute', 'solvent', 'temperature'], # a list of data names to validate (also converts inchis to smiles)\n",
    "    calculate_aqueous=True, # also calculate aqueous solubility even if reference solubility is provided\n",
    "    calculate_Hdiss_T_dep=True, # calculate solubility with the temperature dependent dissolution enthalpy (method 2)\n",
    "    reduced_number=False, # use a reduced number of models for faster but less accurate prediction (does not work for solute_parameters)\n",
    "    export_csv='example_no_ref_solvent/results.csv', # path if csv file with predictions needs to be exported\n",
    "    export_detailed_csv=True, # True if csv file with all predictions and calculations needs to be exported\n",
    "    logger=log_file_path # path to the logger file if the logger file needs to be exported\n",
    ")\n"
   ]
  },
  {
   "cell_type": "markdown",
   "id": "5a14f1e2",
   "metadata": {},
   "source": [
    "# Ex 5. Solid solubility prediction with reference solvent, reference solubility, and temperature and with an input solvent critical property dictionary\n",
    "\n",
    "`logS_T_with_T_dep_Hdiss` output (when using `calculate_Hdiss_T_dep` option) is only availabl for only around 100 common solvents whose critical temperture and critical density are known. \n",
    "A user can provide his/her own dictionary (`solv_crit_prop_dict`) containing the critical temperature and critical density of a solvent to use get the `logS_T_with_T_dep_Hdiss` output for other solvents.\n",
    "\n",
    "\n",
    "<b>`solv_crit_prop_dict`</b>: (optional input) dictionary containing the CoolProp name, critical temperature (in K), and critical density (in mol/m3) of solvents. If this is not provided, default dictionary is used. The inchi with fixed H option is used as a dictionary key.\n",
    "\n",
    "- example format of solv_crit_prop_dict:\n",
    "\n",
    "   {'InChI=1/CH4O/c1-2/h2H,1H3': {'name': 'methanol', 'smiles': 'CO', 'coolprop_name': 'Methanol', 'Tc': 513.0, 'rho_c': 8510.0},\n",
    "   'InChI=1/C3H8O/c1-3(2)4/h3-4H,1-2H3': {'name': 'propan-2-ol',  'smiles': 'CC(C)O', 'coolprop_name': None, 'Tc': 509.0, 'rho_c': 4500.0}}"
   ]
  },
  {
   "cell_type": "code",
   "execution_count": null,
   "id": "45ecf86a",
   "metadata": {},
   "outputs": [],
   "source": [
    "crit_data_path = 'example_with_manual_solv_crit_dict/solvent_crit_data_more.json'\n",
    "with open(crit_data_path) as f:\n",
    "    solv_crit_prop_dict = json.load(f)  # inchi with fixed H is used as a solvent key\n",
    "    \n",
    "df = pd.read_csv('example_with_manual_solv_crit_dict/input.csv')\n",
    "log_file_path = 'example_with_manual_solv_crit_dict/solubility_prediction_log.log'\n",
    "\n",
    "if os.path.exists(log_file_path):\n",
    "    os.remove(log_file_path)\n",
    "\n",
    "results = calc.calculate_solubility(\n",
    "    path=None, # provide either the path to the csv file or the pandas dataframe object\n",
    "    df=df, # provide either the path to the csv file or the pandas dataframe object\n",
    "    validate_data_list=['solute', 'solvent', 'reference_solvent', 'reference_solubility', 'temperature'], # a list of data names to validate (also converts inchis to smiles)\n",
    "    calculate_aqueous=True, # also calculate aqueous solubility even if reference solubility is provided\n",
    "    calculate_Hdiss_T_dep=True, # calculate solubility with the temperature dependent dissolution enthalpy (method 2)\n",
    "    reduced_number=False, # use a reduced number of models for faster but less accurate prediction (does not work for solute_parameters)\n",
    "    export_csv='example_with_manual_solv_crit_dict/results.csv', # path if csv file with predictions needs to be exported\n",
    "    export_detailed_csv=True, # True if csv file with all predictions and calculations needs to be exported\n",
    "    solv_crit_prop_dict = solv_crit_prop_dict,  # dictionary containing the CoolProp name, critical temperature (in K),\n",
    "                                                # and critical density (in mol/m3) of solvents.\n",
    "    logger=log_file_path # path to the logger file if the logger file needs to be exported\n",
    ")\n"
   ]
  }
 ],
 "metadata": {
  "kernelspec": {
   "display_name": "env_solprop",
   "language": "python",
   "name": "env_solprop"
  },
  "language_info": {
   "codemirror_mode": {
    "name": "ipython",
    "version": 3
   },
   "file_extension": ".py",
   "mimetype": "text/x-python",
   "name": "python",
   "nbconvert_exporter": "python",
   "pygments_lexer": "ipython3",
   "version": "3.7.10"
  }
 },
 "nbformat": 4,
 "nbformat_minor": 5
}
